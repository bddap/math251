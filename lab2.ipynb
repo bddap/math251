{
 "cells": [
  {
   "cell_type": "code",
   "execution_count": 130,
   "metadata": {},
   "outputs": [],
   "source": [
    "from math import sqrt\n",
    "import numpy as np\n",
    "import matplotlib.pyplot as plt\n",
    "%matplotlib inline\n",
    "\n",
    "from math import sqrt, sin, cos, pi\n",
    "\n",
    "def graph(xys):\n",
    "    plt.grid()\n",
    "    plt.plot([x for x,y in xys], [y for x,y in xys])\n",
    "\n",
    "def plot(f, start, end):\n",
    "    plt.grid()\n",
    "    plt.plot(np.linspace(start, end), [f(x) for x in np.linspace(start, end)])"
   ]
  },
  {
   "cell_type": "markdown",
   "metadata": {},
   "source": [
    "# 2.1"
   ]
  },
  {
   "cell_type": "markdown",
   "metadata": {},
   "source": [
    "## 1\n",
    "Done."
   ]
  },
  {
   "cell_type": "markdown",
   "metadata": {},
   "source": [
    "## 2\n",
    "g(5) = 1"
   ]
  },
  {
   "cell_type": "markdown",
   "metadata": {},
   "source": [
    "## 3\n",
    "-2"
   ]
  },
  {
   "cell_type": "markdown",
   "metadata": {},
   "source": [
    "## 4\n",
    "-2"
   ]
  },
  {
   "cell_type": "markdown",
   "metadata": {},
   "source": [
    "## 5\n",
    "-1"
   ]
  },
  {
   "cell_type": "markdown",
   "metadata": {},
   "source": [
    "## 6\n",
    "-1"
   ]
  },
  {
   "cell_type": "markdown",
   "metadata": {},
   "source": [
    "## 7\n",
    "-1"
   ]
  },
  {
   "cell_type": "markdown",
   "metadata": {},
   "source": [
    "## 8\n",
    "undefined"
   ]
  },
  {
   "cell_type": "markdown",
   "metadata": {},
   "source": [
    "## 9\n",
    "-1.5"
   ]
  },
  {
   "cell_type": "markdown",
   "metadata": {},
   "source": [
    "## 10\n",
    "5"
   ]
  },
  {
   "cell_type": "markdown",
   "metadata": {},
   "source": [
    "## 11\n",
    "-3.5"
   ]
  },
  {
   "cell_type": "markdown",
   "metadata": {},
   "source": [
    "## 12\n",
    "5"
   ]
  },
  {
   "cell_type": "markdown",
   "metadata": {},
   "source": [
    "## 13\n",
    "undefined"
   ]
  },
  {
   "cell_type": "markdown",
   "metadata": {},
   "source": [
    "## 14\n",
    "2"
   ]
  },
  {
   "cell_type": "markdown",
   "metadata": {},
   "source": [
    "## 15\n",
    "f is a rational function."
   ]
  },
  {
   "cell_type": "code",
   "execution_count": 131,
   "metadata": {},
   "outputs": [
    {
     "data": {
      "text/plain": [
       "0.3333333333333333"
      ]
     },
     "execution_count": 131,
     "metadata": {},
     "output_type": "execute_result"
    }
   ],
   "source": [
    "def f15(x):\n",
    "    return (3*x**2 - 16*x - x) / (2*x**2 - 13*x - 15)\n",
    "\n",
    "f15(5)"
   ]
  },
  {
   "cell_type": "markdown",
   "metadata": {},
   "source": [
    "## 16"
   ]
  },
  {
   "cell_type": "code",
   "execution_count": 132,
   "metadata": {},
   "outputs": [
    {
     "data": {
      "text/plain": [
       "3.0"
      ]
     },
     "execution_count": 132,
     "metadata": {},
     "output_type": "execute_result"
    }
   ],
   "source": [
    "sqrt(21-12)"
   ]
  },
  {
   "cell_type": "markdown",
   "metadata": {},
   "source": [
    "## 17\n",
    "using limit law 10"
   ]
  },
  {
   "cell_type": "code",
   "execution_count": 133,
   "metadata": {},
   "outputs": [
    {
     "data": {
      "text/plain": [
       "3.0"
      ]
     },
     "execution_count": 133,
     "metadata": {},
     "output_type": "execute_result"
    }
   ],
   "source": [
    "sqrt(21 - 12)"
   ]
  },
  {
   "cell_type": "markdown",
   "metadata": {},
   "source": [
    "## 18 - 20"
   ]
  },
  {
   "cell_type": "code",
   "execution_count": 134,
   "metadata": {
    "collapsed": true
   },
   "outputs": [],
   "source": [
    "def makeTable(f, approach, directions=[-1, 1]):\n",
    "    for d in directions:\n",
    "        for x in [ -0.1, -0.01, -0.001, -0.0001 ]:\n",
    "            print(\n",
    "                approach + x * d, \n",
    "                f(approach + x* d)\n",
    "            )"
   ]
  },
  {
   "cell_type": "markdown",
   "metadata": {},
   "source": [
    "## 18"
   ]
  },
  {
   "cell_type": "code",
   "execution_count": 135,
   "metadata": {},
   "outputs": [
    {
     "name": "stdout",
     "output_type": "stream",
     "text": [
      "6.1 2.099999999999945\n",
      "6.01 2.0100000000006872\n",
      "6.001 2.000999999999251\n",
      "6.0001 2.0001000000082745\n",
      "5.9 1.899999999999984\n",
      "5.99 1.990000000000023\n",
      "5.999 1.9989999999971961\n",
      "5.9999 1.9998999999917257\n"
     ]
    }
   ],
   "source": [
    "makeTable(\n",
    "    lambda t: (t**2 - 10*t + 24) / (t - 6),\n",
    "    6\n",
    ")"
   ]
  },
  {
   "cell_type": "markdown",
   "metadata": {},
   "source": [
    "## 19"
   ]
  },
  {
   "cell_type": "code",
   "execution_count": 136,
   "metadata": {},
   "outputs": [
    {
     "name": "stdout",
     "output_type": "stream",
     "text": [
      "-1.1 0.3327780554894272\n",
      "-1.01 0.333327777805553\n",
      "-1.001 0.33333327777778055\n",
      "-1.0001 0.3333333327775311\n"
     ]
    }
   ],
   "source": [
    "makeTable(\n",
    "    lambda x: sin(x + 1) / (3 * x + 3),\n",
    "    -1,\n",
    "    [1]\n",
    ")"
   ]
  },
  {
   "cell_type": "markdown",
   "metadata": {},
   "source": [
    "## 20"
   ]
  },
  {
   "cell_type": "code",
   "execution_count": 137,
   "metadata": {},
   "outputs": [
    {
     "name": "stdout",
     "output_type": "stream",
     "text": [
      "6.1 7.146426544510456\n",
      "6.01 7.16069612585582\n",
      "6.001 7.162119542332324\n",
      "6.0001 7.16226184874055\n"
     ]
    }
   ],
   "source": [
    "makeTable(\n",
    "    lambda h: h / (4 - sqrt(16 - h)),\n",
    "    6,\n",
    "    [-1]\n",
    ")"
   ]
  },
  {
   "cell_type": "markdown",
   "metadata": {},
   "source": [
    "# 2.2"
   ]
  },
  {
   "cell_type": "markdown",
   "metadata": {},
   "source": [
    "## 1\n",
    "pi, by R1"
   ]
  },
  {
   "cell_type": "markdown",
   "metadata": {},
   "source": [
    "## 2\n",
    "23, by R2"
   ]
  },
  {
   "cell_type": "markdown",
   "metadata": {},
   "source": [
    "## 3\n",
    "14, by R1"
   ]
  },
  {
   "cell_type": "markdown",
   "metadata": {},
   "source": [
    "## 4\n",
    "Ok"
   ]
  },
  {
   "cell_type": "markdown",
   "metadata": {},
   "source": [
    "## 5\n",
    "lim(4, sqrt(6 * x + 1))\n",
    "\n",
    "### a, Limit Law A6\n",
    "sqrt(lim(4, 6 * x + 1))\n",
    "\n",
    "### b, Limit Law A1\n",
    "sqrt(lim(4, 6 * x) + lim(4, 1))\n",
    "\n",
    "### c, Limit Law A3\n",
    "sqrt(6 * lim(4, x) + lim(4, 1))\n",
    "\n",
    "### d, Limit Law R1 and Limit Law R2\n",
    "sqrt(6 * 4 + 1)"
   ]
  },
  {
   "cell_type": "code",
   "execution_count": 138,
   "metadata": {},
   "outputs": [
    {
     "data": {
      "text/plain": [
       "5.0"
      ]
     },
     "execution_count": 138,
     "metadata": {},
     "output_type": "execute_result"
    }
   ],
   "source": [
    "sqrt(6 * 4 + 1)"
   ]
  },
  {
   "cell_type": "markdown",
   "metadata": {},
   "source": [
    "## 6\n",
    "lim(7, (y + 3) / (y - sqrt(y + 9)))\n",
    "\n",
    "### Limit Law A5\n",
    "lim(7, y + 3) / lim(7, y - sqrt(y + 9)))\n",
    "\n",
    "### Limit Law A2\n",
    "lim(7, y + 3) / (lim(7, y) - lim(7, sqrt(y + 9)))\n",
    "\n",
    "### Limit Law A6\n",
    "(lim(7, y) + 3) / (lim(7, y) - lim(7, sqrt(y + 9)))\n",
    "(lim(7, y) + 3) / (lim(7, y) - sqrt(lim(7, y + 9)))\n",
    "(lim(7, y) + 3) / (lim(7, y) - sqrt(lim(7, y) + 9))\n",
    "\n",
    "### Limit Law R1\n",
    "7 + 3 / (7 - sqrt(7 + 9))"
   ]
  },
  {
   "cell_type": "code",
   "execution_count": 139,
   "metadata": {},
   "outputs": [
    {
     "data": {
      "text/plain": [
       "8.0"
      ]
     },
     "execution_count": 139,
     "metadata": {},
     "output_type": "execute_result"
    }
   ],
   "source": [
    "7 + 3 / (7 - sqrt(7 + 9))"
   ]
  },
  {
   "cell_type": "markdown",
   "metadata": {},
   "source": [
    "## 7\n",
    "lim(pi, x * cos(x))\n",
    "\n",
    "## Limit Law A4\n",
    "lim(pi, x) * lim(pi, cos(x))\n",
    "\n",
    "## Limit Law A6\n",
    "lim(pi, x) * cos(lim(pi, x))\n",
    "\n",
    "## Limit Law R1\n",
    "pi * cos(pi)"
   ]
  },
  {
   "cell_type": "code",
   "execution_count": 140,
   "metadata": {},
   "outputs": [
    {
     "data": {
      "text/plain": [
       "-3.141592653589793"
      ]
     },
     "execution_count": 140,
     "metadata": {},
     "output_type": "execute_result"
    }
   ],
   "source": [
    "pi * cos(pi)"
   ]
  },
  {
   "cell_type": "markdown",
   "metadata": {},
   "source": [
    "# 2.3"
   ]
  },
  {
   "cell_type": "markdown",
   "metadata": {
    "collapsed": true
   },
   "source": [
    "## 1\n",
    "\n",
    "```\n",
    "1 - cos(x) ** 2 = sin(x) ** 2\n",
    "tan(x) ** 2 = (1 - cos(2 * x)) / (1 + cos(2 * x))\n",
    "\n",
    "sin(2 * x) = 2 * sin(x) * cos(x)\n",
    "tan(2 * x) = (2 * tan(x)) / (1 - tan(x) ** 2)\n",
    "\n",
    "sin(x + y) = sin(x) * cos(y) + cos(x) * sin(y)\n",
    "cos(x + y) = cos(x) * cos(y) - sin(x) * sin(y)\n",
    "\n",
    "sin(x / 2) = +- sqrt((1 - cos(x)) / 2)\n",
    "cos(x / 2) = +- sqrt((1 + cos(x)) / 2)\n",
    "```\n",
    "\n",
    "```\n",
    "cos(2 * x) = cos(x) ** 2 – sin(x) ** 2\n",
    "cos(2 * x) = 1 - 2 * sin(x) ** 2\n",
    "cos(2 * x) = 2 * cos(x) ** 2 - 1\n",
    "```\n",
    "\n",
    "<!--```\n",
    "ln(y) = x\n",
    "e ** x = y\n",
    "\n",
    "ln(e ** x) = x\n",
    "e ** ln(y) = y\n",
    "```-->\n",
    "\n",
    "```\n",
    "ln(x * y) = ln(x) + ln(y)\n",
    "ln(x / y) = ln(x) - ln(y)\n",
    "\n",
    "ln(x ** n) = n * ln(x)\n",
    "ln(e ** n) = n\n",
    "```"
   ]
  },
  {
   "cell_type": "markdown",
   "metadata": {},
   "source": [
    "## 2\n",
    "lim(-4, (x + 4) / (2 * x ** 2 + 5 * x - 12))\n",
    "\n",
    "lim(-4, (x + 4) / ((x + 4) * (2x - 3)))\n",
    "\n",
    "lim(-4, 1 / (2x - 3))\n",
    "\n",
    "### Limit Law A6\n",
    "1 / lim(-4, 2x - 3)\n",
    "\n",
    "1 / (lim(-4, 2x) - 3)\n",
    "\n",
    "1 / (2 * lim(-4, x) - 3)\n",
    "\n",
    "### Limit Law R1\n",
    "1 / (2 * -4 - 3)"
   ]
  },
  {
   "cell_type": "code",
   "execution_count": 141,
   "metadata": {},
   "outputs": [
    {
     "data": {
      "text/plain": [
       "-0.09090909090909091"
      ]
     },
     "execution_count": 141,
     "metadata": {},
     "output_type": "execute_result"
    }
   ],
   "source": [
    "1 / (2 * -4 - 3)"
   ]
  },
  {
   "cell_type": "markdown",
   "metadata": {},
   "source": [
    "## 3\n",
    "lim(0, sin(2 * x) / sin(x))\n",
    "\n",
    "lim(0, 2 * sin(x) * cos(x) / sin(x))\n",
    "\n",
    "lim(0, 2 * cos(x))\n",
    "\n",
    "### Limit Law A6\n",
    "2 * lim(0, cos(x))\n",
    "2 * cos(lim(0, x))\n",
    "\n",
    "### Limit Law R1\n",
    "2 * cos(0)"
   ]
  },
  {
   "cell_type": "code",
   "execution_count": 142,
   "metadata": {},
   "outputs": [
    {
     "data": {
      "text/plain": [
       "2.0"
      ]
     },
     "execution_count": 142,
     "metadata": {},
     "output_type": "execute_result"
    }
   ],
   "source": [
    "2 * cos(0)"
   ]
  },
  {
   "cell_type": "markdown",
   "metadata": {},
   "source": [
    "## 4\n",
    "lim(0, sin(x + pi) / sin(x))\n",
    "\n",
    "lim(0, -sin(x) / sin(x))\n",
    "\n",
    "lim(0, -1)\n",
    "\n",
    "### Limit Law R2\n",
    "-1"
   ]
  },
  {
   "cell_type": "markdown",
   "metadata": {},
   "source": [
    "## 5\n",
    "lim(0, (cos(2 * x) - 1) / (cos(x) - 1))\n",
    "\n",
    "lim(0, (2 * cos(x) ** 2 - 1 - 1) / (cos(x) - 1))\n",
    "\n",
    "lim(0, (2 * cos(x) ** 2 - 2) / (cos(x) - 1))\n",
    "\n",
    "lim(0, (cos(x) ** 2 - 1) * 2 / (cos(x) - 1))\n",
    "\n",
    "lim(0, (cos(x) - 1) * (cos(x) + 1) * 2 / (cos(x) - 1))\n",
    "\n",
    "lim(0, (cos(x) + 1) * 2)\n",
    "\n",
    "### Limit Law A6\n",
    "lim(0, cos(x) + 1) * 2\n",
    "\n",
    "(lim(0, cos(x)) + 1) * 2\n",
    "\n",
    "(cos(lim(0, x)) + 1) * 2\n",
    "\n",
    "### Limit Law R1\n",
    "(cos(0) + 1) * 2"
   ]
  },
  {
   "cell_type": "code",
   "execution_count": 143,
   "metadata": {},
   "outputs": [
    {
     "data": {
      "text/plain": [
       "4.0"
      ]
     },
     "execution_count": 143,
     "metadata": {},
     "output_type": "execute_result"
    }
   ],
   "source": [
    "(cos(0) + 1) * 2"
   ]
  },
  {
   "cell_type": "markdown",
   "metadata": {},
   "source": [
    "## 6\n",
    "lim(1, \n",
    "    (4 * ln(x) + ln(x ** 3)) / (ln(x) - ln(sqrt(x)))\n",
    ")\n",
    "\n",
    "lim(1, \n",
    "    (4 * ln(x) + 3 * ln(x)) / (ln(x) - ln(sqrt(x)))\n",
    ")\n",
    "\n",
    "lim(1, \n",
    "    (4 * ln(x) + 3 * ln(x)) / (ln(x) - 0.5 * ln(x))\n",
    ")\n",
    "\n",
    "lim(1, \n",
    "    (4 * ln(x) + 3 * ln(x)) / (0.5 * ln(x))\n",
    ")\n",
    "\n",
    "lim(1, \n",
    "    (8 * ln(x) + 6 * ln(x)) / ln(x)\n",
    ")\n",
    "\n",
    "lim(1, \n",
    "    (8 + 6) * ln(x) / ln(x)\n",
    ")\n",
    "\n",
    "lim(1, 8 + 6)\n",
    "\n",
    "lim(1, 14)\n",
    "\n",
    "### Limit Law R2\n",
    "14"
   ]
  },
  {
   "cell_type": "markdown",
   "metadata": {},
   "source": [
    "## 7\n",
    "lim(9, (9 - x) / (sqrt(x) - 3))\n",
    "\n",
    "lim(9, \n",
    "    (9 - x) / (sqrt(x) - 3)\n",
    ")\n",
    "\n",
    "lim(9, \n",
    "    (9 - x) * (sqrt(x) + 3) / ((sqrt(x) - 3) * (sqrt(x) + 3))\n",
    ")\n",
    "\n",
    "lim(9, \n",
    "    (9 - x) * (sqrt(x) + 3) / (x - 9)\n",
    ")\n",
    "\n",
    "lim(9, \n",
    "    -1 * (x - 9) * (sqrt(x) + 3) / (x - 9)\n",
    ")\n",
    "\n",
    "lim(9, \n",
    "    -1 * (sqrt(x) + 3)\n",
    ")\n",
    "\n",
    "lim(9, -1 * (sqrt(x) + 3))\n",
    "\n",
    "### Limit Law A6\n",
    "-1 * lim(9, sqrt(x) + 3)\n",
    "-1 * (lim(9, sqrt(x)) + 3)\n",
    "-1 * (sqrt(lim(9, x)) + 3)\n",
    "\n",
    "### Limit Law R1\n",
    "-1 * (sqrt(9) + 3)\n",
    "\n"
   ]
  },
  {
   "cell_type": "code",
   "execution_count": 144,
   "metadata": {},
   "outputs": [
    {
     "data": {
      "text/plain": [
       "-6.0"
      ]
     },
     "execution_count": 144,
     "metadata": {},
     "output_type": "execute_result"
    },
    {
     "data": {
      "image/png": "[encoded data removed]",
      "text/plain": [
       "<matplotlib.figure.Figure at 0x113416438>"
      ]
     },
     "metadata": {},
     "output_type": "display_data"
    }
   ],
   "source": [
    "plot(lambda x: (9 - x) / (sqrt(x) - 3), 8, 10)\n",
    "-1 * (sqrt(9) + 3)"
   ]
  }
 ],
 "metadata": {
  "kernelspec": {
   "display_name": "Python 3",
   "language": "python",
   "name": "python3"
  },
  "language_info": {
   "codemirror_mode": {
    "name": "ipython",
    "version": 3
   },
   "file_extension": ".py",
   "mimetype": "text/x-python",
   "name": "python",
   "nbconvert_exporter": "python",
   "pygments_lexer": "ipython3",
   "version": "3.6.1"
  }
 },
 "nbformat": 4,
 "nbformat_minor": 2
}

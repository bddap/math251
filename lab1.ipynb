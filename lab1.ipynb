{
 "cells": [
  {
   "cell_type": "code",
   "execution_count": 419,
   "metadata": {},
   "outputs": [],
   "source": [
    "%matplotlib inline\n",
    "\n",
    "import matplotlib\n",
    "import numpy as np\n",
    "import matplotlib.pyplot as plt\n",
    "\n",
    "from math import sqrt\n",
    "\n",
    "def graph(xys):\n",
    "    plt.grid()\n",
    "    plt.plot([x for x,y in xys], [y for x,y in xys])\n",
    "\n",
    "def plot(f, start, end):\n",
    "    plt.grid()\n",
    "    plt.plot(np.linspace(start, end), [f(x) for x in np.linspace(start, end)])\n",
    "\n",
    "def slope(x0, y0, x1, y1):\n",
    "    return (y1 - y0) / (x1 - x0)"
   ]
  },
  {
   "cell_type": "code",
   "execution_count": 420,
   "metadata": {
    "collapsed": true
   },
   "outputs": [],
   "source": [
    "# 1.2"
   ]
  },
  {
   "cell_type": "code",
   "execution_count": 421,
   "metadata": {},
   "outputs": [
    {
     "data": {
      "image/png": "[encoded data removed]",
      "text/plain": [
       "<matplotlib.figure.Figure at 0x10d7cfa58>"
      ]
     },
     "metadata": {},
     "output_type": "display_data"
    }
   ],
   "source": [
    "def g(x):\n",
    "    return x**2-5\n",
    "\n",
    "plot(g, -6, 6)"
   ]
  },
  {
   "cell_type": "code",
   "execution_count": 422,
   "metadata": {
    "collapsed": true
   },
   "outputs": [],
   "source": [
    "# 1 Following Example 1.2.2, find a formula for the slope of\n",
    "# the secant line connecting the points:\n",
    "# (x0,g(x0)) and (x1,g(x1)).\n",
    "\n",
    "def gsecant(x0,x1):\n",
    "    # ( x1 - x0 ) / ( (x1**2-5) - (x0**2-5) )\n",
    "    # ( x1 - x0 ) / ( x1**2 - 5 - x0**2 + 5) )\n",
    "    # ( x1 - x0 ) / ( x1**2 - x0**2 )\n",
    "    # ( x1 - x0 ) / (( x1 + x0 ) * ( x1 - x0 ))\n",
    "    # 1 / ( x1 + x0 )\n",
    "    return 1 / ( x1 + x0 )\n"
   ]
  },
  {
   "cell_type": "code",
   "execution_count": 423,
   "metadata": {},
   "outputs": [
    {
     "data": {
      "text/plain": [
       "(1.0, 1.0)"
      ]
     },
     "execution_count": 423,
     "metadata": {},
     "output_type": "execute_result"
    }
   ],
   "source": [
    "# 2 Check your slope formula using the two points indicated in Figure 1.2.3.\n",
    "x0, y0 = -2, -1\n",
    "x1, y1 = 3, 4\n",
    "\n",
    "( gsecant(x0, x1), slope(x0, y0, x1, y1) )"
   ]
  },
  {
   "cell_type": "code",
   "execution_count": 424,
   "metadata": {
    "collapsed": true
   },
   "outputs": [],
   "source": [
    "# 1.3\n",
    "\n",
    "# Completely simplify the difference quotient for each of\n",
    "# the following functions. Please note that the template \n",
    "# for the difference quotient needs to be adapted to the\n",
    "# function name and independent variable in each given equation. For example, the difference quotient for the function in Exercise 1.3.1.1 is v(t+h)−v(t)hv(t+h)−v(t)h.\n",
    "\n",
    "# Please make sure that you lay out your work in a manner\n",
    "# consistent with the way the work is shown in Example 1.3.1\n",
    "# (excluding the subscripts, of course).\n",
    "\n",
    "def difference_quotient(f):\n",
    "    def g(x):\n",
    "        return (f(x + h) - f(x)) / h \n",
    "        # h is not defined\n",
    "    return g"
   ]
  },
  {
   "cell_type": "code",
   "execution_count": 425,
   "metadata": {},
   "outputs": [],
   "source": [
    "# 1 \n",
    "# v(t) = 2.5 * t**2 − 7.5 * t\n",
    "\n",
    "def dqv(t):\n",
    "    # (v(t + h) - v(t)) / h\n",
    "    # (2.5 * (t + h)**2 − 7.5 * (t + h) - (2.5 * t**2 − 7.5 * t)) / h  \n",
    "    # (2.5 * (t**2 + t*h + t*h + h**2) − 7.5 * (t + h) - (2.5 * t**2 − 7.5 * t)) / h\n",
    "    # (2.5*t**2 + 5*t*h + 2.5*h**2 − 7.5*h - 2.5*t**2) / h\n",
    "    # ( 5*t*h + 2.5*h**2 − 7.5*h ) / h\n",
    "    # 5*t + 2.5*h − 7.5\n",
    "    return 5 * t + 2.5 * h - 7.5"
   ]
  },
  {
   "cell_type": "code",
   "execution_count": 426,
   "metadata": {
    "collapsed": true
   },
   "outputs": [],
   "source": [
    "# 2\n",
    "# g(x) = 3 − 7 * x\n",
    "\n",
    "def dqg(x):\n",
    "    # (g(x + h) - g(x)) / h\n",
    "    # (3 − 7 * (x + h) - (3 − 7 * x)) / h\n",
    "    # (3 − 7x + 7h - 3 + 7x) / h\n",
    "    # 7h / h\n",
    "    # 7\n",
    "    return 7"
   ]
  },
  {
   "cell_type": "code",
   "execution_count": 427,
   "metadata": {},
   "outputs": [],
   "source": [
    "# 3\n",
    "# w(x) = 3 / (x + 2)\n",
    "\n",
    "def dqw(x):\n",
    "    # (w(x + h) - w(x)) / h\n",
    "    # ((3 / (x + h + 2)) - (3 / (x + 2))) / h\n",
    "    # (3(x + 2) - 3(x + h + 2)) / ((x + h + 2)(x + 2)) / h\n",
    "    # (3x +6 -3x -3h -6) / (x(x + 2) + h(x + 2) + 2(x + 2)) / h\n",
    "    # (3x +6 -3x -3h -6) / (x**2 + 2x + hx + 2h + 2x + 4) / h\n",
    "    # -3h / (x**2 + 2x + hx + 2h + 2x + 4) / h\n",
    "    # -3h / (hx**2 + h2x + h**2x + 2h**2 + h2x + 4h)\n",
    "    # -3 / (x**2 + 2x + hx + 2h + 2x + 4)\n",
    "    # -3 / (x**2 + 4x + hx + 2h + 4)\n",
    "    return -3 / (x**2 + 4*x + h*x + 2*h + 4)"
   ]
  },
  {
   "cell_type": "code",
   "execution_count": null,
   "metadata": {
    "collapsed": true
   },
   "outputs": [],
   "source": []
  },
  {
   "cell_type": "code",
   "execution_count": 428,
   "metadata": {},
   "outputs": [
    {
     "data": {
      "image/png": "[encoded data removed]",
      "text/plain": [
       "<matplotlib.figure.Figure at 0x10d81c240>"
      ]
     },
     "metadata": {},
     "output_type": "display_data"
    }
   ],
   "source": [
    "# Suppose that an object is tossed directly upward in the\n",
    "# air in such a way that the elevation of the object\n",
    "# (measured in ft) is given by the function f defined by\n",
    "# f(t)=40+40t−16t**2 where t is the amount\n",
    "# of time that has passed since the object was tossed\n",
    "# (measured in s).\n",
    "\n",
    "def f(t):\n",
    "    return 40 +40*t -16*t**2\n",
    "\n",
    "plot(f, -0.7, 3)"
   ]
  },
  {
   "cell_type": "code",
   "execution_count": 429,
   "metadata": {
    "collapsed": true
   },
   "outputs": [],
   "source": [
    "# 4\n",
    "# Simplify the difference quotient for f.\n",
    "\n",
    "def dqf(t, h):\n",
    "    # (f(t + h) - f(t)) / h\n",
    "    # (40 +40*(t + h) -16*(t + h)**2 - (40 +40*t -16*t**2)) / h\n",
    "    # (40 +40t +40h -16*(t**2 +2th +h**2) - (40 +40*t -16*t**2)) / h\n",
    "    # (40 +40t +40h -16t**2 -32th -16h**2 -40 -40*t +16*t**2) / h\n",
    "    # (+40h -32th -16h**2) / h\n",
    "    # 40 -32t -16h\n",
    "    return 40 -32*t -16*h"
   ]
  },
  {
   "cell_type": "code",
   "execution_count": 430,
   "metadata": {},
   "outputs": [
    {
     "data": {
      "text/plain": [
       "-30.4"
      ]
     },
     "execution_count": 430,
     "metadata": {},
     "output_type": "execute_result"
    }
   ],
   "source": [
    "# 5 Ignoring the unit, use the difference quotient to determine\n",
    "# the average velocity over the interval [1.6,2.8].\n",
    "dqf(1.6, 2.8 - 1.6)"
   ]
  },
  {
   "cell_type": "code",
   "execution_count": 431,
   "metadata": {},
   "outputs": [
    {
     "data": {
      "text/plain": [
       "(63.03999999999999, 26.560000000000016)"
      ]
     },
     "execution_count": 431,
     "metadata": {},
     "output_type": "execute_result"
    }
   ],
   "source": [
    "# 6 Calculate f(1.6) and f(2.8). What unit is associated with\n",
    "# the values of these expressions? What is the contextual\n",
    "# significance of these values?\n",
    "(f(1.6), f(2.8))\n",
    "\n",
    "# f(1.6) and f(2.8) represent the ball's hieght in feet at\n",
    "# 1.6s and 2.8s."
   ]
  },
  {
   "cell_type": "code",
   "execution_count": 432,
   "metadata": {},
   "outputs": [
    {
     "name": "stdout",
     "output_type": "stream",
     "text": [
      "-30.399999999999988 ~= -30.4\n",
      "26.560000000000002 ~= 26.560000000000016\n"
     ]
    }
   ],
   "source": [
    "# 7 Use the expression \n",
    "# (f(2.8)−f(1.6)) / (2.8−1.6)\n",
    "# and the answers to Exercise 1.3.1.6 to verify the value\n",
    "# you found in Exercise 1.3.1.5. What unit is associated\n",
    "# with the values of this expression? What is the contextual\n",
    "# significance of this value?\n",
    "\n",
    "print(\n",
    "    (f(2.8) - f(1.6)) / (2.8 - 1.6), \n",
    "    '~=', \n",
    "    dqf(1.6, 2.8 - 1.6)\n",
    ")\n",
    "# yup, are the same.\n",
    "\n",
    "# (f(2.8) - f(1.6)) / (2.8 - 1.6) is the average upward speed of the\n",
    "# ball from t = 1.6 to t = 2.8 is -30.4.\n",
    "\n",
    "# If these calculations were done correctly:\n",
    "# f(1.6) + dqf(1.6, 2.8 - 1.6) * (2.8 - 1.6) = f(2.8)\n",
    "print(\n",
    "    f(1.6) + dqf(1.6, 2.8 - 1.6) * (2.8 - 1.6),\n",
    "    '~=', \n",
    "    f(2.8)\n",
    ")"
   ]
  },
  {
   "cell_type": "code",
   "execution_count": 433,
   "metadata": {},
   "outputs": [
    {
     "data": {
      "text/plain": [
       "-4.800000000000001"
      ]
     },
     "execution_count": 433,
     "metadata": {},
     "output_type": "execute_result"
    }
   ],
   "source": [
    "# 8 Ignoring the unit, use the difference quotient to determine\n",
    "# the average velocity over the interval [0.4,2.4].\n",
    "dqf(0.4, 2.4 - 0.4)\n",
    "\n",
    "# Code reuse saves time, and minimizes errors."
   ]
  },
  {
   "cell_type": "markdown",
   "metadata": {},
   "source": [
    "Moose and squirrel were having casual conversation when suddenly, without any apparent provocation, Boris Badenov launched anti-moose missile in their direction. Fortunately, squirrel had ability to fly as well as great knowledge of missile technology, and he was able to disarm missile well before it hit ground.\n",
    "\n",
    "The elevation (ft) of the tip of the missile t seconds after it was launched is given by the function"
   ]
  },
  {
   "cell_type": "code",
   "execution_count": 434,
   "metadata": {},
   "outputs": [],
   "source": [
    "def h(t):\n",
    "    return -16*t**2 +294.4*t +15"
   ]
  },
  {
   "cell_type": "markdown",
   "metadata": {},
   "source": [
    "9 Calculate the value of h(12). What unit is associated with this value? What does the value tell you about the flight of the missile?"
   ]
  },
  {
   "cell_type": "code",
   "execution_count": 435,
   "metadata": {},
   "outputs": [
    {
     "data": {
      "text/plain": [
       "1243.7999999999997"
      ]
     },
     "execution_count": 435,
     "metadata": {},
     "output_type": "execute_result"
    }
   ],
   "source": [
    "# h(12) is the height of the misile in feet, 12 seconds after launch.\n",
    "h(12)"
   ]
  },
  {
   "cell_type": "markdown",
   "metadata": {},
   "source": [
    "10 Calculate the value of `(h(10) − h(0)) / 10`. What unit is associated with this value? What does this value tell you about the flight of the missile?"
   ]
  },
  {
   "cell_type": "code",
   "execution_count": 436,
   "metadata": {},
   "outputs": [
    {
     "data": {
      "text/plain": [
       "134.4"
      ]
     },
     "execution_count": 436,
     "metadata": {},
     "output_type": "execute_result"
    }
   ],
   "source": [
    "# (h(10) − h(0)) / 10 is the upward speed of the missile in fps, for\n",
    "# the first ten seconds of flight.\n",
    "(h(10) - h(0)) / 10"
   ]
  },
  {
   "cell_type": "markdown",
   "metadata": {},
   "source": [
    "11 The velocity (ft⁄s) function for the missile is"
   ]
  },
  {
   "cell_type": "code",
   "execution_count": 437,
   "metadata": {
    "collapsed": true
   },
   "outputs": [],
   "source": [
    "def v(t):\n",
    "    return -32 * t + 294.4"
   ]
  },
  {
   "cell_type": "markdown",
   "metadata": {},
   "source": [
    "Calculate the value of v(10) − v(0) / 10. What unit is associated with this value? What does this value tell you about the flight of the missile?"
   ]
  },
  {
   "cell_type": "markdown",
   "metadata": {},
   "source": [
    "The below expression represents vertical acceleration over the first ten seconds of launch.\n",
    "\n",
    "```\n",
    "(v(10) - v(0)) / 10\n",
    "= (-32 * 10 + 294.4 - (-32 * 0 + 294.4)) / 10\n",
    "= (-320 +294.4 -294.4) / 10\n",
    "= -320 / 10\n",
    "= -32\n",
    "```"
   ]
  },
  {
   "cell_type": "code",
   "execution_count": 438,
   "metadata": {},
   "outputs": [
    {
     "data": {
      "text/plain": [
       "-32.0"
      ]
     },
     "execution_count": 438,
     "metadata": {},
     "output_type": "execute_result"
    }
   ],
   "source": [
    "(v(10) - v(0)) / 10"
   ]
  },
  {
   "cell_type": "markdown",
   "metadata": {},
   "source": [
    "Timmy lived a long life in the 19th century. When Timmy was seven he found a rock that weighed exactly half a stone. (Timmy lived in jolly old England, don't you know.) That rock sat on Timmy's window sill for the next 80 years and wouldn't you know the weight of that rock did not change even one smidge the entire time. In fact, the weight function for this rock was "
   ]
  },
  {
   "cell_type": "code",
   "execution_count": 439,
   "metadata": {
    "collapsed": true
   },
   "outputs": [],
   "source": [
    "def w(t):\n",
    "    return 0.5"
   ]
  },
  {
   "cell_type": "markdown",
   "metadata": {},
   "source": [
    "where `w(t)` was the weight of the rock (stones) and `t` was the number of years that had passed since that day Timmy brought the rock home."
   ]
  },
  {
   "cell_type": "markdown",
   "metadata": {},
   "source": [
    "12 What was the average rate of change in the weight of the rock over the 80 years it sat on Timmy's window sill?"
   ]
  },
  {
   "cell_type": "markdown",
   "metadata": {},
   "source": [
    "```\n",
    "(w(0 + 80) - w(0)) / 80\n",
    "= (0.5 - 0.5) / 80\n",
    "= 0\n",
    "```\n",
    "\n",
    "0 stones per year"
   ]
  },
  {
   "cell_type": "markdown",
   "metadata": {},
   "source": [
    "13 Ignoring the unit, simplify the expression `( w(t1) − w(t0) ) / ( t1 − t0 )`. Does the result make sense in the context of this problem?"
   ]
  },
  {
   "cell_type": "markdown",
   "metadata": {},
   "source": [
    "```\n",
    "( w(t1) − w(t0) ) / ( t1 − t0 )\n",
    "= ( 0.5 − 0.5 ) / ( t1 − t0 )\n",
    "= 0 / poodle\n",
    "= 0\n",
    "```\n",
    "\n",
    "The result is always zero, which makes sense."
   ]
  },
  {
   "cell_type": "markdown",
   "metadata": {},
   "source": [
    "14 Showing each step in the process and ignoring the unit, simplify the difference quotient for w. Does the result make sense in the context of this problem?"
   ]
  },
  {
   "cell_type": "markdown",
   "metadata": {},
   "source": [
    "```\n",
    "( w(x + h) - w(x) ) / h\n",
    "= ( 0.5 - 0.5 ) / h\n",
    "= 0 / h\n",
    "= 0\n",
    "```\n",
    "\n",
    "Yup, nothing suspicious here. Seems like a normal rock."
   ]
  },
  {
   "cell_type": "markdown",
   "metadata": {},
   "source": [
    "Truth be told, there was one day in 1842 when Timmy's mischievous son Nigel took that rock outside and chucked it into the air. The velocity of the rock (ft⁄s) was given by"
   ]
  },
  {
   "cell_type": "code",
   "execution_count": 440,
   "metadata": {},
   "outputs": [
    {
     "data": {
      "image/png": "[encoded data removed]",
      "text/plain": [
       "<matplotlib.figure.Figure at 0x10d7e7cc0>"
      ]
     },
     "metadata": {},
     "output_type": "display_data"
    }
   ],
   "source": [
    "def v(t):\n",
    "    return 60 - 32 * t\n",
    "\n",
    "plot(v, 0, 2)"
   ]
  },
  {
   "cell_type": "markdown",
   "metadata": {},
   "source": [
    "where t was the number of seconds that had passed since Nigel chucked the rock."
   ]
  },
  {
   "cell_type": "markdown",
   "metadata": {},
   "source": [
    "15 What, including unit, are the values of `v(0)`, `v(1)`, and `v(2)` and what do these values tell you in the context of this problem? Don't just write that the values tell you the velocity at certain times; explain what the velocity values tell you about the motion of the rock."
   ]
  },
  {
   "cell_type": "code",
   "execution_count": 441,
   "metadata": {},
   "outputs": [
    {
     "data": {
      "text/plain": [
       "60"
      ]
     },
     "execution_count": 441,
     "metadata": {},
     "output_type": "execute_result"
    }
   ],
   "source": [
    "v(0)"
   ]
  },
  {
   "cell_type": "markdown",
   "metadata": {},
   "source": [
    "Nigel has a strong arm. Don't get in a rock fight with Nigel."
   ]
  },
  {
   "cell_type": "code",
   "execution_count": 442,
   "metadata": {},
   "outputs": [
    {
     "data": {
      "text/plain": [
       "28"
      ]
     },
     "execution_count": 442,
     "metadata": {},
     "output_type": "execute_result"
    }
   ],
   "source": [
    "v(1)"
   ]
  },
  {
   "cell_type": "markdown",
   "metadata": {},
   "source": [
    "Gravity was doing it's thing, but the rock was still acending at this point."
   ]
  },
  {
   "cell_type": "code",
   "execution_count": 443,
   "metadata": {},
   "outputs": [
    {
     "data": {
      "text/plain": [
       "-4"
      ]
     },
     "execution_count": 443,
     "metadata": {},
     "output_type": "execute_result"
    }
   ],
   "source": [
    "v(2)"
   ]
  },
  {
   "cell_type": "markdown",
   "metadata": {},
   "source": [
    "The rock is now traveling downwards."
   ]
  },
  {
   "cell_type": "markdown",
   "metadata": {},
   "source": [
    "16 Ignoring the unit, simplify the difference quotient for v."
   ]
  },
  {
   "cell_type": "markdown",
   "metadata": {},
   "source": [
    "```\n",
    "( v(t + h) - v(t) ) / h\n",
    "= ( 60 - 32 * (t + h) - (60 - 32 * t) ) / h\n",
    "= ( 60 -32t -32h -60 +32t ) / h\n",
    "= (-32)h / h\n",
    "= -32\n",
    "```"
   ]
  },
  {
   "cell_type": "markdown",
   "metadata": {},
   "source": [
    "17 What is the unit for the difference quotient for v? What does the value of the difference quotient (including unit) tell you in the context of this problem?"
   ]
  },
  {
   "cell_type": "markdown",
   "metadata": {},
   "source": [
    "The rock accelerates downward at 32 ft/s<sup>2</sup> regardless of how long it's been in the air."
   ]
  },
  {
   "cell_type": "markdown",
   "metadata": {},
   "source": [
    "Suppose that a vat was undergoing a controlled drain and that the amount of fluid left in the vat (gal) was given by the formula"
   ]
  },
  {
   "cell_type": "code",
   "execution_count": 444,
   "metadata": {},
   "outputs": [
    {
     "data": {
      "image/png": "[encoded data removed]",
      "text/plain": [
       "<matplotlib.figure.Figure at 0x10dada128>"
      ]
     },
     "metadata": {},
     "output_type": "display_data"
    }
   ],
   "source": [
    "def V(t):\n",
    "    return 100 - 2 * t**(3/2)\n",
    "\n",
    "plot(V, 0, 12)"
   ]
  },
  {
   "cell_type": "markdown",
   "metadata": {},
   "source": [
    "Where t is the number of minutes that had passed since the draining process began."
   ]
  },
  {
   "cell_type": "markdown",
   "metadata": {},
   "source": [
    "18 What, including unit, is the value of V(4) and what does that value tell you in the context of this problem?"
   ]
  },
  {
   "cell_type": "markdown",
   "metadata": {},
   "source": [
    "V(4) is the number of gallons left in the vat after four minutes."
   ]
  },
  {
   "cell_type": "code",
   "execution_count": 445,
   "metadata": {},
   "outputs": [
    {
     "data": {
      "text/plain": [
       "84.0"
      ]
     },
     "execution_count": 445,
     "metadata": {},
     "output_type": "execute_result"
    }
   ],
   "source": [
    "V(4)"
   ]
  },
  {
   "cell_type": "markdown",
   "metadata": {},
   "source": [
    "19 Ignoring the unit, write down the formula you get for the difference quotient of V when t=4."
   ]
  },
  {
   "cell_type": "markdown",
   "metadata": {},
   "source": [
    "This is wrong.\n",
    "```\n",
    "(V(4 + h) - V(4)) / h\n",
    "= ( 100 -2(4 + h)**(3/2) -(100 -2(4)**(3/2)) ) / h\n",
    "= ( -2(4 + h)**(3/2) +2(4)**(3/2) ) / h\n",
    "= ( -2(4 + h)*sqrt(4 + h) -2(4)*sqrt(4) ) / h\n",
    "= ( (-6 -2h)*sqrt(4 + h) -2(4)*2) ) / h\n",
    "= ( (-6 -2h)*sqrt(4 + h) -12 ) / h\n",
    "= ( -6*sqrt(4 + h) -2h*sqrt(4 + h) -12 ) / h\n",
    "= ( -6*sqrt(4 + h) -2h*sqrt(4 + h) -12 ) / h\n",
    "= ( -6*sqrt(4 + h) -2h*sqrt(4 + h) -12 ) / h\n",
    "```"
   ]
  },
  {
   "cell_type": "code",
   "execution_count": 457,
   "metadata": {},
   "outputs": [
    {
     "data": {
      "image/png": "[encoded data removed]",
      "text/plain": [
       "<matplotlib.figure.Figure at 0x10cf8a978>"
      ]
     },
     "metadata": {},
     "output_type": "display_data"
    }
   ],
   "source": [
    "def dqV4(h):\n",
    "    return ( -6*sqrt(4 + h) -2*h*sqrt(4 + h) -12) / h\n",
    "\n",
    "plot(dqV4, -0.1, 0.1)"
   ]
  },
  {
   "cell_type": "code",
   "execution_count": 458,
   "metadata": {},
   "outputs": [
    {
     "data": {
      "image/png": "[encoded data removed]",
      "text/plain": [
       "<matplotlib.figure.Figure at 0x10d195eb8>"
      ]
     },
     "metadata": {},
     "output_type": "display_data"
    }
   ],
   "source": [
    "# This seems to work as expected.\n",
    "\n",
    "def dqV4(h):\n",
    "    return (V(4 + h) - V(4)) / h\n",
    "\n",
    "plot(dqV4, -0.1, 0.1)"
   ]
  },
  {
   "cell_type": "code",
   "execution_count": null,
   "metadata": {
    "collapsed": true
   },
   "outputs": [],
   "source": []
  },
  {
   "cell_type": "code",
   "execution_count": null,
   "metadata": {
    "collapsed": true
   },
   "outputs": [],
   "source": []
  }
 ],
 "metadata": {
  "kernelspec": {
   "display_name": "Python 3",
   "language": "python",
   "name": "python3"
  },
  "language_info": {
   "codemirror_mode": {
    "name": "ipython",
    "version": 3
   },
   "file_extension": ".py",
   "mimetype": "text/x-python",
   "name": "python",
   "nbconvert_exporter": "python",
   "pygments_lexer": "ipython3",
   "version": "3.6.1"
  }
 },
 "nbformat": 4,
 "nbformat_minor": 2
}
